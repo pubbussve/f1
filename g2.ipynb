{
 "cells": [
  {
   "cell_type": "markdown",
   "metadata": {},
   "source": [
    "# Versuch G2"
   ]
  }
 ],
 "metadata": {
  "interpreter": {
   "hash": "84faba2c3d73f72195a31da7dbd07f0b601f44c80958afd4e19c4d66e3eef367"
  },
  "kernelspec": {
   "display_name": "Python 3.9.7 64-bit ('py39': conda)",
   "language": "python",
   "name": "python3"
  },
  "language_info": {
   "name": "python",
   "version": "3.9.7"
  },
  "orig_nbformat": 4
 },
 "nbformat": 4,
 "nbformat_minor": 2
}
