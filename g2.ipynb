{
  "nbformat": 4,
  "nbformat_minor": 0,
  "metadata": {
    "interpreter": {
      "hash": "84faba2c3d73f72195a31da7dbd07f0b601f44c80958afd4e19c4d66e3eef367"
    },
    "kernelspec": {
      "display_name": "Python 3.9.7 64-bit ('py39': conda)",
      "language": "python",
      "name": "python3"
    },
    "language_info": {
      "name": "python",
      "version": "3.9.7"
    },
    "orig_nbformat": 4,
    "colab": {
      "name": "g2.ipynb",
      "provenance": [],
      "include_colab_link": true
    }
  },
  "cells": [
    {
      "cell_type": "markdown",
      "metadata": {
        "id": "view-in-github",
        "colab_type": "text"
      },
      "source": [
        "<a href=\"https://colab.research.google.com/github/pubbussve/f1/blob/main/g2.ipynb\" target=\"_parent\"><img src=\"https://colab.research.google.com/assets/colab-badge.svg\" alt=\"Open In Colab\"/></a>"
      ]
    },
    {
      "cell_type": "markdown",
      "metadata": {
        "id": "lE6Gh3midheb"
      },
      "source": [
        "# Versuch G2\n",
        "## VF1\n",
        "\n",
        "1. Wie errechnet sich allgemein die Oberflächenkonzentration der gespreiteten Moleküle aus Trogoberfläche, gespreiteter Menge und molarer Masse?\n",
        "1. Wie errechnet sich die Fläche pro Molekül?\n"
      ]
    },
    {
      "cell_type": "markdown",
      "metadata": {
        "id": "XsuVSysMrhhs"
      },
      "source": [
        "## VF2\n",
        "\n",
        "1. Bestimmen Sie die zu spreitende Menge Arachidinsäure für einen angemommenen Flächenbedarf von $40 A2$ in der Gasphase (Trog: 10 cm x 30 cm), molare Masse von Arachidinsäure ist $312,65 $ \n",
        "\n"
      ]
    }
  ]
}